{
 "cells": [
  {
   "cell_type": "code",
   "execution_count": 29,
   "id": "1873fcd0-4f9a-454d-8de3-dace7b268b6c",
   "metadata": {},
   "outputs": [],
   "source": [
    "import pandas as pd\n",
    "import numpy as np"
   ]
  },
  {
   "cell_type": "code",
   "execution_count": 30,
   "id": "d9f5c99a-c051-495a-824e-471d62205f4a",
   "metadata": {},
   "outputs": [],
   "source": [
    "data=pd.read_csv(\"GercekZamanliTuketim-01012021-17062023.csv\",encoding='ISO-8859-1')"
   ]
  },
  {
   "cell_type": "code",
   "execution_count": 31,
   "id": "1da05e20-70e0-45b6-95aa-490a4032b7ff",
   "metadata": {},
   "outputs": [],
   "source": [
    "data['Tarih'] = pd.to_datetime(data['Tarih'], format='%d.%m.%Y', errors='coerce')"
   ]
  },
  {
   "cell_type": "code",
   "execution_count": 32,
   "id": "bc16281d-02cc-4c30-81ea-e54176f880a7",
   "metadata": {},
   "outputs": [],
   "source": [
    "data['Saat'] = pd.to_datetime(data['Saat'], format='%H:%M').dt.time"
   ]
  },
  {
   "cell_type": "code",
   "execution_count": 33,
   "id": "fc08ac26-1396-4404-bded-36d40264ea5c",
   "metadata": {},
   "outputs": [],
   "source": [
    "data['ds'] = data['Tarih'].astype(str) + ' ' + data['Saat'].astype(str)"
   ]
  },
  {
   "cell_type": "code",
   "execution_count": 34,
   "id": "29e8c780-0b4c-443d-a2e2-e304db36920f",
   "metadata": {},
   "outputs": [],
   "source": [
    "data=data.iloc[:,2:]"
   ]
  },
  {
   "cell_type": "code",
   "execution_count": 35,
   "id": "17631a91-7469-4e01-8c32-532fb91b8f9a",
   "metadata": {},
   "outputs": [
    {
     "data": {
      "text/html": [
       "<div>\n",
       "<style scoped>\n",
       "    .dataframe tbody tr th:only-of-type {\n",
       "        vertical-align: middle;\n",
       "    }\n",
       "\n",
       "    .dataframe tbody tr th {\n",
       "        vertical-align: top;\n",
       "    }\n",
       "\n",
       "    .dataframe thead th {\n",
       "        text-align: right;\n",
       "    }\n",
       "</style>\n",
       "<table border=\"1\" class=\"dataframe\">\n",
       "  <thead>\n",
       "    <tr style=\"text-align: right;\">\n",
       "      <th></th>\n",
       "      <th>Tüketim Miktarý (MWh)</th>\n",
       "      <th>ds</th>\n",
       "    </tr>\n",
       "  </thead>\n",
       "  <tbody>\n",
       "    <tr>\n",
       "      <th>0</th>\n",
       "      <td>29.489,46</td>\n",
       "      <td>2021-01-01 00:00:00</td>\n",
       "    </tr>\n",
       "    <tr>\n",
       "      <th>1</th>\n",
       "      <td>28.067,11</td>\n",
       "      <td>2021-01-01 01:00:00</td>\n",
       "    </tr>\n",
       "    <tr>\n",
       "      <th>2</th>\n",
       "      <td>26.527,08</td>\n",
       "      <td>2021-01-01 02:00:00</td>\n",
       "    </tr>\n",
       "    <tr>\n",
       "      <th>3</th>\n",
       "      <td>25.327,19</td>\n",
       "      <td>2021-01-01 03:00:00</td>\n",
       "    </tr>\n",
       "    <tr>\n",
       "      <th>4</th>\n",
       "      <td>24.719,72</td>\n",
       "      <td>2021-01-01 04:00:00</td>\n",
       "    </tr>\n",
       "    <tr>\n",
       "      <th>...</th>\n",
       "      <td>...</td>\n",
       "      <td>...</td>\n",
       "    </tr>\n",
       "    <tr>\n",
       "      <th>21538</th>\n",
       "      <td>35.118,56</td>\n",
       "      <td>2023-06-17 10:00:00</td>\n",
       "    </tr>\n",
       "    <tr>\n",
       "      <th>21539</th>\n",
       "      <td>35.880,67</td>\n",
       "      <td>2023-06-17 11:00:00</td>\n",
       "    </tr>\n",
       "    <tr>\n",
       "      <th>21540</th>\n",
       "      <td>34.860,03</td>\n",
       "      <td>2023-06-17 12:00:00</td>\n",
       "    </tr>\n",
       "    <tr>\n",
       "      <th>21541</th>\n",
       "      <td>35.102,91</td>\n",
       "      <td>2023-06-17 13:00:00</td>\n",
       "    </tr>\n",
       "    <tr>\n",
       "      <th>21542</th>\n",
       "      <td>34.338,44</td>\n",
       "      <td>2023-06-17 14:00:00</td>\n",
       "    </tr>\n",
       "  </tbody>\n",
       "</table>\n",
       "<p>21543 rows × 2 columns</p>\n",
       "</div>"
      ],
      "text/plain": [
       "      Tüketim Miktarý (MWh)                   ds\n",
       "0                 29.489,46  2021-01-01 00:00:00\n",
       "1                 28.067,11  2021-01-01 01:00:00\n",
       "2                 26.527,08  2021-01-01 02:00:00\n",
       "3                 25.327,19  2021-01-01 03:00:00\n",
       "4                 24.719,72  2021-01-01 04:00:00\n",
       "...                     ...                  ...\n",
       "21538             35.118,56  2023-06-17 10:00:00\n",
       "21539             35.880,67  2023-06-17 11:00:00\n",
       "21540             34.860,03  2023-06-17 12:00:00\n",
       "21541             35.102,91  2023-06-17 13:00:00\n",
       "21542             34.338,44  2023-06-17 14:00:00\n",
       "\n",
       "[21543 rows x 2 columns]"
      ]
     },
     "execution_count": 35,
     "metadata": {},
     "output_type": "execute_result"
    }
   ],
   "source": [
    "data"
   ]
  },
  {
   "cell_type": "code",
   "execution_count": 36,
   "id": "df171341-fda6-4b12-a51f-f1e8e9fcadb8",
   "metadata": {},
   "outputs": [
    {
     "name": "stderr",
     "output_type": "stream",
     "text": [
      "/tmp/ipykernel_23878/2053694950.py:2: FutureWarning: The default value of regex will change from True to False in a future version. In addition, single character regular expressions will *not* be treated as literal strings when regex=True.\n",
      "  data['y'] = data['y'].str.replace('.', '')\n"
     ]
    }
   ],
   "source": [
    "data=data.rename(columns={\"Tüketim Miktarý (MWh)\":\"y\"})\n",
    "data['y'] = data['y'].str.replace('.', '')\n",
    "data['y'] = data['y'].str.replace(',', '.')\n",
    "data['y'] = data['y'].astype(float)\n",
    "test=data[data.ds>=\"2023-06-01\"]\n",
    "train=data[data.ds<\"2023-06-01\"]"
   ]
  },
  {
   "cell_type": "code",
   "execution_count": 37,
   "id": "3c030144-b0bd-48e8-8489-0857589c1a54",
   "metadata": {},
   "outputs": [
    {
     "data": {
      "text/html": [
       "<div>\n",
       "<style scoped>\n",
       "    .dataframe tbody tr th:only-of-type {\n",
       "        vertical-align: middle;\n",
       "    }\n",
       "\n",
       "    .dataframe tbody tr th {\n",
       "        vertical-align: top;\n",
       "    }\n",
       "\n",
       "    .dataframe thead th {\n",
       "        text-align: right;\n",
       "    }\n",
       "</style>\n",
       "<table border=\"1\" class=\"dataframe\">\n",
       "  <thead>\n",
       "    <tr style=\"text-align: right;\">\n",
       "      <th></th>\n",
       "      <th>y</th>\n",
       "      <th>ds</th>\n",
       "    </tr>\n",
       "  </thead>\n",
       "  <tbody>\n",
       "    <tr>\n",
       "      <th>21144</th>\n",
       "      <td>33377.19</td>\n",
       "      <td>2023-06-01 00:00:00</td>\n",
       "    </tr>\n",
       "  </tbody>\n",
       "</table>\n",
       "</div>"
      ],
      "text/plain": [
       "              y                   ds\n",
       "21144  33377.19  2023-06-01 00:00:00"
      ]
     },
     "execution_count": 37,
     "metadata": {},
     "output_type": "execute_result"
    }
   ],
   "source": [
    "test.head(1)"
   ]
  },
  {
   "cell_type": "code",
   "execution_count": 38,
   "id": "c988b396-5f2d-453c-8359-321e2c531a3c",
   "metadata": {},
   "outputs": [
    {
     "data": {
      "text/html": [
       "<div>\n",
       "<style scoped>\n",
       "    .dataframe tbody tr th:only-of-type {\n",
       "        vertical-align: middle;\n",
       "    }\n",
       "\n",
       "    .dataframe tbody tr th {\n",
       "        vertical-align: top;\n",
       "    }\n",
       "\n",
       "    .dataframe thead th {\n",
       "        text-align: right;\n",
       "    }\n",
       "</style>\n",
       "<table border=\"1\" class=\"dataframe\">\n",
       "  <thead>\n",
       "    <tr style=\"text-align: right;\">\n",
       "      <th></th>\n",
       "      <th>y</th>\n",
       "      <th>ds</th>\n",
       "    </tr>\n",
       "  </thead>\n",
       "  <tbody>\n",
       "    <tr>\n",
       "      <th>0</th>\n",
       "      <td>29489.46</td>\n",
       "      <td>2021-01-01 00:00:00</td>\n",
       "    </tr>\n",
       "  </tbody>\n",
       "</table>\n",
       "</div>"
      ],
      "text/plain": [
       "          y                   ds\n",
       "0  29489.46  2021-01-01 00:00:00"
      ]
     },
     "execution_count": 38,
     "metadata": {},
     "output_type": "execute_result"
    }
   ],
   "source": [
    "train.head(1)"
   ]
  },
  {
   "cell_type": "code",
   "execution_count": 39,
   "id": "ae00f829-787c-4fda-b113-d862e746c6a7",
   "metadata": {
    "scrolled": true,
    "tags": []
   },
   "outputs": [
    {
     "name": "stdout",
     "output_type": "stream",
     "text": [
      "Initial log joint probability = -191.202\n",
      "    Iter      log prob        ||dx||      ||grad||       alpha      alpha0  # evals  Notes \n",
      "      99       56540.4     0.0032773       1674.66      0.3444      0.3444      123   \n",
      "    Iter      log prob        ||dx||      ||grad||       alpha      alpha0  # evals  Notes \n",
      "     199       56589.5    0.00223027       1224.45           1           1      241   \n",
      "    Iter      log prob        ||dx||      ||grad||       alpha      alpha0  # evals  Notes \n",
      "     299       56736.6    0.00115928       422.468           1           1      357   \n",
      "    Iter      log prob        ||dx||      ||grad||       alpha      alpha0  # evals  Notes \n",
      "     399       56757.8     0.0102781       2189.54      0.1694           1      475   \n",
      "    Iter      log prob        ||dx||      ||grad||       alpha      alpha0  # evals  Notes \n",
      "     499       56768.5    0.00401009       1748.39           1           1      585   \n",
      "    Iter      log prob        ||dx||      ||grad||       alpha      alpha0  # evals  Notes \n",
      "     599       56786.2   0.000734906       692.103           1           1      706   \n",
      "    Iter      log prob        ||dx||      ||grad||       alpha      alpha0  # evals  Notes \n",
      "     699       56799.5    0.00533815       1150.49           1           1      817   \n",
      "    Iter      log prob        ||dx||      ||grad||       alpha      alpha0  # evals  Notes \n",
      "     799       56804.4     0.0046568       374.759      0.5063           1      936   \n",
      "    Iter      log prob        ||dx||      ||grad||       alpha      alpha0  # evals  Notes \n",
      "     801       56804.4   1.74807e-05       354.324   5.676e-08       0.001      987  LS failed, Hessian reset \n",
      "     899       56810.1     0.0665301       1372.79           1           1     1097   \n",
      "    Iter      log prob        ||dx||      ||grad||       alpha      alpha0  # evals  Notes \n",
      "     950       56813.1   8.93952e-06       161.721   3.058e-08       0.001     1216  LS failed, Hessian reset \n",
      "     999       56819.6   0.000937269       266.533           1           1     1270   \n",
      "    Iter      log prob        ||dx||      ||grad||       alpha      alpha0  # evals  Notes \n",
      "    1099       56823.4   0.000213445        309.54      0.8022     0.08022     1383   \n",
      "    Iter      log prob        ||dx||      ||grad||       alpha      alpha0  # evals  Notes \n",
      "    1199       56825.6    0.00176425       395.854           1           1     1501   \n",
      "    Iter      log prob        ||dx||      ||grad||       alpha      alpha0  # evals  Notes \n",
      "    1299         56827    0.00176338       284.236      0.9797      0.9797     1622   \n",
      "    Iter      log prob        ||dx||      ||grad||       alpha      alpha0  # evals  Notes \n",
      "    1304       56827.2   5.70127e-05       997.686   7.113e-08       0.001     1665  LS failed, Hessian reset \n",
      "    1387       56828.7   3.87818e-06       77.9591    5.83e-08       0.001     1809  LS failed, Hessian reset \n",
      "    1399       56828.7   9.90516e-05       65.3442      0.6198      0.6198     1826   \n",
      "    Iter      log prob        ||dx||      ||grad||       alpha      alpha0  # evals  Notes \n",
      "    1499       56831.4    0.00017191       246.194       1.094      0.1094     1960   \n",
      "    Iter      log prob        ||dx||      ||grad||       alpha      alpha0  # evals  Notes \n",
      "    1599       56833.2   6.16549e-05       100.193      0.9438      0.9438     2084   \n",
      "    Iter      log prob        ||dx||      ||grad||       alpha      alpha0  # evals  Notes \n",
      "    1677       56833.7   7.98204e-05       507.512   7.044e-07       0.001     2238  LS failed, Hessian reset \n",
      "    1699       56834.2   0.000604355       437.167      0.3093           1     2263   \n",
      "    Iter      log prob        ||dx||      ||grad||       alpha      alpha0  # evals  Notes \n",
      "    1779       56834.6   7.38933e-06       58.8401      0.6164      0.6164     2369   \n",
      "Optimization terminated normally: \n",
      "  Convergence detected: relative gradient magnitude is below tolerance\n"
     ]
    }
   ],
   "source": [
    "from prophet import Prophet\n",
    "\n",
    "model = Prophet(seasonality_mode='multiplicative',seasonality_prior_scale=0.1)\n",
    "\n",
    "model.add_seasonality(name='hourly', period=24, fourier_order=5)\n",
    "\n",
    "model.fit(train)\n",
    "y_test=test[\"y\"]\n",
    "\n",
    "forecast = model.predict(test.iloc[:,1:])\n",
    "\n"
   ]
  },
  {
   "cell_type": "code",
   "execution_count": 40,
   "id": "34d5b077-cff0-414d-903c-3bf56b3934fc",
   "metadata": {},
   "outputs": [],
   "source": [
    "error=(abs((list(y_test) - forecast[\"yhat\"])/list(y_test))*100).mean()"
   ]
  },
  {
   "cell_type": "code",
   "execution_count": 41,
   "id": "1e5f25d2-4124-4086-bad5-304fdd61a382",
   "metadata": {},
   "outputs": [
    {
     "data": {
      "text/plain": [
       "3.9658216856623563"
      ]
     },
     "execution_count": 41,
     "metadata": {},
     "output_type": "execute_result"
    }
   ],
   "source": [
    "error"
   ]
  },
  {
   "cell_type": "code",
   "execution_count": 42,
   "id": "8a04b6e1-9ec8-45a1-b456-1982e3a108e3",
   "metadata": {},
   "outputs": [
    {
     "data": {
      "text/html": [
       "<div>\n",
       "<style scoped>\n",
       "    .dataframe tbody tr th:only-of-type {\n",
       "        vertical-align: middle;\n",
       "    }\n",
       "\n",
       "    .dataframe tbody tr th {\n",
       "        vertical-align: top;\n",
       "    }\n",
       "\n",
       "    .dataframe thead th {\n",
       "        text-align: right;\n",
       "    }\n",
       "</style>\n",
       "<table border=\"1\" class=\"dataframe\">\n",
       "  <thead>\n",
       "    <tr style=\"text-align: right;\">\n",
       "      <th></th>\n",
       "      <th>ds</th>\n",
       "      <th>yhat</th>\n",
       "    </tr>\n",
       "  </thead>\n",
       "  <tbody>\n",
       "    <tr>\n",
       "      <th>0</th>\n",
       "      <td>2023-06-01 00:00:00</td>\n",
       "      <td>34834.426974</td>\n",
       "    </tr>\n",
       "    <tr>\n",
       "      <th>1</th>\n",
       "      <td>2023-06-01 01:00:00</td>\n",
       "      <td>33527.811048</td>\n",
       "    </tr>\n",
       "    <tr>\n",
       "      <th>2</th>\n",
       "      <td>2023-06-01 02:00:00</td>\n",
       "      <td>32698.182897</td>\n",
       "    </tr>\n",
       "    <tr>\n",
       "      <th>3</th>\n",
       "      <td>2023-06-01 03:00:00</td>\n",
       "      <td>32004.225107</td>\n",
       "    </tr>\n",
       "    <tr>\n",
       "      <th>4</th>\n",
       "      <td>2023-06-01 04:00:00</td>\n",
       "      <td>31267.457387</td>\n",
       "    </tr>\n",
       "    <tr>\n",
       "      <th>...</th>\n",
       "      <td>...</td>\n",
       "      <td>...</td>\n",
       "    </tr>\n",
       "    <tr>\n",
       "      <th>394</th>\n",
       "      <td>2023-06-17 10:00:00</td>\n",
       "      <td>38866.979386</td>\n",
       "    </tr>\n",
       "    <tr>\n",
       "      <th>395</th>\n",
       "      <td>2023-06-17 11:00:00</td>\n",
       "      <td>39100.361123</td>\n",
       "    </tr>\n",
       "    <tr>\n",
       "      <th>396</th>\n",
       "      <td>2023-06-17 12:00:00</td>\n",
       "      <td>38612.594106</td>\n",
       "    </tr>\n",
       "    <tr>\n",
       "      <th>397</th>\n",
       "      <td>2023-06-17 13:00:00</td>\n",
       "      <td>38164.248610</td>\n",
       "    </tr>\n",
       "    <tr>\n",
       "      <th>398</th>\n",
       "      <td>2023-06-17 14:00:00</td>\n",
       "      <td>38059.341257</td>\n",
       "    </tr>\n",
       "  </tbody>\n",
       "</table>\n",
       "<p>399 rows × 2 columns</p>\n",
       "</div>"
      ],
      "text/plain": [
       "                     ds          yhat\n",
       "0   2023-06-01 00:00:00  34834.426974\n",
       "1   2023-06-01 01:00:00  33527.811048\n",
       "2   2023-06-01 02:00:00  32698.182897\n",
       "3   2023-06-01 03:00:00  32004.225107\n",
       "4   2023-06-01 04:00:00  31267.457387\n",
       "..                  ...           ...\n",
       "394 2023-06-17 10:00:00  38866.979386\n",
       "395 2023-06-17 11:00:00  39100.361123\n",
       "396 2023-06-17 12:00:00  38612.594106\n",
       "397 2023-06-17 13:00:00  38164.248610\n",
       "398 2023-06-17 14:00:00  38059.341257\n",
       "\n",
       "[399 rows x 2 columns]"
      ]
     },
     "execution_count": 42,
     "metadata": {},
     "output_type": "execute_result"
    }
   ],
   "source": [
    "forecast[[\"ds\",\"yhat\"]]"
   ]
  },
  {
   "cell_type": "code",
   "execution_count": 43,
   "id": "447c464b-bac5-4bf7-bae1-72560d289453",
   "metadata": {},
   "outputs": [
    {
     "data": {
      "text/html": [
       "<div>\n",
       "<style scoped>\n",
       "    .dataframe tbody tr th:only-of-type {\n",
       "        vertical-align: middle;\n",
       "    }\n",
       "\n",
       "    .dataframe tbody tr th {\n",
       "        vertical-align: top;\n",
       "    }\n",
       "\n",
       "    .dataframe thead th {\n",
       "        text-align: right;\n",
       "    }\n",
       "</style>\n",
       "<table border=\"1\" class=\"dataframe\">\n",
       "  <thead>\n",
       "    <tr style=\"text-align: right;\">\n",
       "      <th></th>\n",
       "      <th>y</th>\n",
       "      <th>ds</th>\n",
       "    </tr>\n",
       "  </thead>\n",
       "  <tbody>\n",
       "    <tr>\n",
       "      <th>21144</th>\n",
       "      <td>33377.19</td>\n",
       "      <td>2023-06-01 00:00:00</td>\n",
       "    </tr>\n",
       "    <tr>\n",
       "      <th>21145</th>\n",
       "      <td>31906.82</td>\n",
       "      <td>2023-06-01 01:00:00</td>\n",
       "    </tr>\n",
       "    <tr>\n",
       "      <th>21146</th>\n",
       "      <td>30775.27</td>\n",
       "      <td>2023-06-01 02:00:00</td>\n",
       "    </tr>\n",
       "    <tr>\n",
       "      <th>21147</th>\n",
       "      <td>30055.67</td>\n",
       "      <td>2023-06-01 03:00:00</td>\n",
       "    </tr>\n",
       "    <tr>\n",
       "      <th>21148</th>\n",
       "      <td>29810.46</td>\n",
       "      <td>2023-06-01 04:00:00</td>\n",
       "    </tr>\n",
       "    <tr>\n",
       "      <th>...</th>\n",
       "      <td>...</td>\n",
       "      <td>...</td>\n",
       "    </tr>\n",
       "    <tr>\n",
       "      <th>21538</th>\n",
       "      <td>35118.56</td>\n",
       "      <td>2023-06-17 10:00:00</td>\n",
       "    </tr>\n",
       "    <tr>\n",
       "      <th>21539</th>\n",
       "      <td>35880.67</td>\n",
       "      <td>2023-06-17 11:00:00</td>\n",
       "    </tr>\n",
       "    <tr>\n",
       "      <th>21540</th>\n",
       "      <td>34860.03</td>\n",
       "      <td>2023-06-17 12:00:00</td>\n",
       "    </tr>\n",
       "    <tr>\n",
       "      <th>21541</th>\n",
       "      <td>35102.91</td>\n",
       "      <td>2023-06-17 13:00:00</td>\n",
       "    </tr>\n",
       "    <tr>\n",
       "      <th>21542</th>\n",
       "      <td>34338.44</td>\n",
       "      <td>2023-06-17 14:00:00</td>\n",
       "    </tr>\n",
       "  </tbody>\n",
       "</table>\n",
       "<p>399 rows × 2 columns</p>\n",
       "</div>"
      ],
      "text/plain": [
       "              y                   ds\n",
       "21144  33377.19  2023-06-01 00:00:00\n",
       "21145  31906.82  2023-06-01 01:00:00\n",
       "21146  30775.27  2023-06-01 02:00:00\n",
       "21147  30055.67  2023-06-01 03:00:00\n",
       "21148  29810.46  2023-06-01 04:00:00\n",
       "...         ...                  ...\n",
       "21538  35118.56  2023-06-17 10:00:00\n",
       "21539  35880.67  2023-06-17 11:00:00\n",
       "21540  34860.03  2023-06-17 12:00:00\n",
       "21541  35102.91  2023-06-17 13:00:00\n",
       "21542  34338.44  2023-06-17 14:00:00\n",
       "\n",
       "[399 rows x 2 columns]"
      ]
     },
     "execution_count": 43,
     "metadata": {},
     "output_type": "execute_result"
    }
   ],
   "source": [
    "test"
   ]
  },
  {
   "cell_type": "code",
   "execution_count": null,
   "id": "8c25354e-1686-4964-87b1-a2eabccd0675",
   "metadata": {},
   "outputs": [],
   "source": []
  }
 ],
 "metadata": {
  "kernelspec": {
   "display_name": "Python 3 (ipykernel)",
   "language": "python",
   "name": "python3"
  },
  "language_info": {
   "codemirror_mode": {
    "name": "ipython",
    "version": 3
   },
   "file_extension": ".py",
   "mimetype": "text/x-python",
   "name": "python",
   "nbconvert_exporter": "python",
   "pygments_lexer": "ipython3",
   "version": "3.8.5"
  }
 },
 "nbformat": 4,
 "nbformat_minor": 5
}
